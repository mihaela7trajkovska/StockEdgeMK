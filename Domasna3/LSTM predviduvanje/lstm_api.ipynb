{
 "cells": [
  {
   "cell_type": "code",
   "execution_count": 5,
   "id": "f19a5728-0581-407a-a4fe-5a0a9aeecd8b",
   "metadata": {},
   "outputs": [
    {
     "name": "stderr",
     "output_type": "stream",
     "text": [
      "WARNING:absl:Compiled the loaded model, but the compiled metrics have yet to be built. `model.compile_metrics` will be empty until you train or evaluate the model.\n"
     ]
    },
    {
     "data": {
      "text/html": [
       "<pre style=\"white-space:pre;overflow-x:auto;line-height:normal;font-family:Menlo,'DejaVu Sans Mono',consolas,'Courier New',monospace\"><span style=\"font-weight: bold\">Model: \"sequential_2\"</span>\n",
       "</pre>\n"
      ],
      "text/plain": [
       "\u001b[1mModel: \"sequential_2\"\u001b[0m\n"
      ]
     },
     "metadata": {},
     "output_type": "display_data"
    },
    {
     "data": {
      "text/html": [
       "<pre style=\"white-space:pre;overflow-x:auto;line-height:normal;font-family:Menlo,'DejaVu Sans Mono',consolas,'Courier New',monospace\">┏━━━━━━━━━━━━━━━━━━━━━━━━━━━━━━━━━━━━━━┳━━━━━━━━━━━━━━━━━━━━━━━━━━━━━┳━━━━━━━━━━━━━━━━━┓\n",
       "┃<span style=\"font-weight: bold\"> Layer (type)                         </span>┃<span style=\"font-weight: bold\"> Output Shape                </span>┃<span style=\"font-weight: bold\">         Param # </span>┃\n",
       "┡━━━━━━━━━━━━━━━━━━━━━━━━━━━━━━━━━━━━━━╇━━━━━━━━━━━━━━━━━━━━━━━━━━━━━╇━━━━━━━━━━━━━━━━━┩\n",
       "│ lstm_4 (<span style=\"color: #0087ff; text-decoration-color: #0087ff\">LSTM</span>)                        │ (<span style=\"color: #00d7ff; text-decoration-color: #00d7ff\">None</span>, <span style=\"color: #00af00; text-decoration-color: #00af00\">3</span>, <span style=\"color: #00af00; text-decoration-color: #00af00\">64</span>)               │          <span style=\"color: #00af00; text-decoration-color: #00af00\">16,896</span> │\n",
       "├──────────────────────────────────────┼─────────────────────────────┼─────────────────┤\n",
       "│ lstm_5 (<span style=\"color: #0087ff; text-decoration-color: #0087ff\">LSTM</span>)                        │ (<span style=\"color: #00d7ff; text-decoration-color: #00d7ff\">None</span>, <span style=\"color: #00af00; text-decoration-color: #00af00\">32</span>)                  │          <span style=\"color: #00af00; text-decoration-color: #00af00\">12,416</span> │\n",
       "├──────────────────────────────────────┼─────────────────────────────┼─────────────────┤\n",
       "│ dense_2 (<span style=\"color: #0087ff; text-decoration-color: #0087ff\">Dense</span>)                      │ (<span style=\"color: #00d7ff; text-decoration-color: #00d7ff\">None</span>, <span style=\"color: #00af00; text-decoration-color: #00af00\">1</span>)                   │              <span style=\"color: #00af00; text-decoration-color: #00af00\">33</span> │\n",
       "└──────────────────────────────────────┴─────────────────────────────┴─────────────────┘\n",
       "</pre>\n"
      ],
      "text/plain": [
       "┏━━━━━━━━━━━━━━━━━━━━━━━━━━━━━━━━━━━━━━┳━━━━━━━━━━━━━━━━━━━━━━━━━━━━━┳━━━━━━━━━━━━━━━━━┓\n",
       "┃\u001b[1m \u001b[0m\u001b[1mLayer (type)                        \u001b[0m\u001b[1m \u001b[0m┃\u001b[1m \u001b[0m\u001b[1mOutput Shape               \u001b[0m\u001b[1m \u001b[0m┃\u001b[1m \u001b[0m\u001b[1m        Param #\u001b[0m\u001b[1m \u001b[0m┃\n",
       "┡━━━━━━━━━━━━━━━━━━━━━━━━━━━━━━━━━━━━━━╇━━━━━━━━━━━━━━━━━━━━━━━━━━━━━╇━━━━━━━━━━━━━━━━━┩\n",
       "│ lstm_4 (\u001b[38;5;33mLSTM\u001b[0m)                        │ (\u001b[38;5;45mNone\u001b[0m, \u001b[38;5;34m3\u001b[0m, \u001b[38;5;34m64\u001b[0m)               │          \u001b[38;5;34m16,896\u001b[0m │\n",
       "├──────────────────────────────────────┼─────────────────────────────┼─────────────────┤\n",
       "│ lstm_5 (\u001b[38;5;33mLSTM\u001b[0m)                        │ (\u001b[38;5;45mNone\u001b[0m, \u001b[38;5;34m32\u001b[0m)                  │          \u001b[38;5;34m12,416\u001b[0m │\n",
       "├──────────────────────────────────────┼─────────────────────────────┼─────────────────┤\n",
       "│ dense_2 (\u001b[38;5;33mDense\u001b[0m)                      │ (\u001b[38;5;45mNone\u001b[0m, \u001b[38;5;34m1\u001b[0m)                   │              \u001b[38;5;34m33\u001b[0m │\n",
       "└──────────────────────────────────────┴─────────────────────────────┴─────────────────┘\n"
      ]
     },
     "metadata": {},
     "output_type": "display_data"
    },
    {
     "data": {
      "text/html": [
       "<pre style=\"white-space:pre;overflow-x:auto;line-height:normal;font-family:Menlo,'DejaVu Sans Mono',consolas,'Courier New',monospace\"><span style=\"font-weight: bold\"> Total params: </span><span style=\"color: #00af00; text-decoration-color: #00af00\">29,347</span> (114.64 KB)\n",
       "</pre>\n"
      ],
      "text/plain": [
       "\u001b[1m Total params: \u001b[0m\u001b[38;5;34m29,347\u001b[0m (114.64 KB)\n"
      ]
     },
     "metadata": {},
     "output_type": "display_data"
    },
    {
     "data": {
      "text/html": [
       "<pre style=\"white-space:pre;overflow-x:auto;line-height:normal;font-family:Menlo,'DejaVu Sans Mono',consolas,'Courier New',monospace\"><span style=\"font-weight: bold\"> Trainable params: </span><span style=\"color: #00af00; text-decoration-color: #00af00\">29,345</span> (114.63 KB)\n",
       "</pre>\n"
      ],
      "text/plain": [
       "\u001b[1m Trainable params: \u001b[0m\u001b[38;5;34m29,345\u001b[0m (114.63 KB)\n"
      ]
     },
     "metadata": {},
     "output_type": "display_data"
    },
    {
     "data": {
      "text/html": [
       "<pre style=\"white-space:pre;overflow-x:auto;line-height:normal;font-family:Menlo,'DejaVu Sans Mono',consolas,'Courier New',monospace\"><span style=\"font-weight: bold\"> Non-trainable params: </span><span style=\"color: #00af00; text-decoration-color: #00af00\">0</span> (0.00 B)\n",
       "</pre>\n"
      ],
      "text/plain": [
       "\u001b[1m Non-trainable params: \u001b[0m\u001b[38;5;34m0\u001b[0m (0.00 B)\n"
      ]
     },
     "metadata": {},
     "output_type": "display_data"
    },
    {
     "data": {
      "text/html": [
       "<pre style=\"white-space:pre;overflow-x:auto;line-height:normal;font-family:Menlo,'DejaVu Sans Mono',consolas,'Courier New',monospace\"><span style=\"font-weight: bold\"> Optimizer params: </span><span style=\"color: #00af00; text-decoration-color: #00af00\">2</span> (12.00 B)\n",
       "</pre>\n"
      ],
      "text/plain": [
       "\u001b[1m Optimizer params: \u001b[0m\u001b[38;5;34m2\u001b[0m (12.00 B)\n"
      ]
     },
     "metadata": {},
     "output_type": "display_data"
    },
    {
     "name": "stdout",
     "output_type": "stream",
     "text": [
      "None\n",
      " * Serving Flask app '__main__'\n",
      " * Debug mode: off\n"
     ]
    },
    {
     "name": "stderr",
     "output_type": "stream",
     "text": [
      "INFO:werkzeug:\u001b[31m\u001b[1mWARNING: This is a development server. Do not use it in a production deployment. Use a production WSGI server instead.\u001b[0m\n",
      " * Running on http://127.0.0.1:8010\n",
      "INFO:werkzeug:\u001b[33mPress CTRL+C to quit\u001b[0m\n",
      "INFO:werkzeug:127.0.0.1 - - [29/Dec/2024 12:42:14] \"GET /api/predictions HTTP/1.1\" 200 -\n",
      "INFO:werkzeug:127.0.0.1 - - [29/Dec/2024 12:42:15] \"\u001b[33mGET /favicon.ico HTTP/1.1\u001b[0m\" 404 -\n",
      "INFO:werkzeug:127.0.0.1 - - [29/Dec/2024 12:42:36] \"GET /api/predictions HTTP/1.1\" 200 -\n",
      "INFO:werkzeug:127.0.0.1 - - [29/Dec/2024 12:54:49] \"GET /api/predictions HTTP/1.1\" 200 -\n",
      "INFO:werkzeug:127.0.0.1 - - [29/Dec/2024 12:54:50] \"GET /api/predictions HTTP/1.1\" 200 -\n",
      "INFO:werkzeug:127.0.0.1 - - [29/Dec/2024 13:00:06] \"GET /api/predictions HTTP/1.1\" 200 -\n",
      "INFO:werkzeug:127.0.0.1 - - [29/Dec/2024 13:00:06] \"GET /api/predictions HTTP/1.1\" 200 -\n",
      "INFO:werkzeug:127.0.0.1 - - [29/Dec/2024 13:00:50] \"GET /api/predictions HTTP/1.1\" 200 -\n",
      "INFO:werkzeug:127.0.0.1 - - [29/Dec/2024 13:00:50] \"GET /api/predictions HTTP/1.1\" 200 -\n",
      "INFO:werkzeug:127.0.0.1 - - [29/Dec/2024 13:06:26] \"GET /api/predictions HTTP/1.1\" 200 -\n",
      "INFO:werkzeug:127.0.0.1 - - [29/Dec/2024 13:06:52] \"GET /api/predictions HTTP/1.1\" 200 -\n",
      "INFO:werkzeug:127.0.0.1 - - [29/Dec/2024 13:06:53] \"GET /api/predictions HTTP/1.1\" 200 -\n"
     ]
    }
   ],
   "source": [
    "from flask import Flask, jsonify\n",
    "import numpy as np\n",
    "import pandas as pd\n",
    "from keras.models import load_model\n",
    "import joblib\n",
    "from flask_cors import CORS\n",
    "\n",
    "app = Flask(__name__)\n",
    "CORS(app)\n",
    "\n",
    "# Учитај го зачуваниот модел и скалирачот\n",
    "model = load_model(\"lstm_model.h5\")\n",
    "scaler = joblib.load(\"scaler.pkl\")\n",
    "\n",
    "# Учитај ги предвидувањата и тест податоците\n",
    "predictions = np.load(\"predictions.npy\")\n",
    "test_data = pd.read_csv(\"test_data.csv\")\n",
    "\n",
    "@app.route('/api/predictions', methods=['GET'])\n",
    "def get_predictions():\n",
    "    data = {\n",
    "        \"actual\": test_data[\"close_price\"].tolist(),\n",
    "        \"predicted\": predictions.flatten().tolist()\n",
    "    }\n",
    "    return jsonify(data)\n",
    "\n",
    "if __name__ == '__main__':\n",
    "    app.run(port=8010, debug=False)\n"
   ]
  },
  {
   "cell_type": "code",
   "execution_count": null,
   "id": "49b9bef5-6b43-4fc8-a953-fd2721bb7a93",
   "metadata": {},
   "outputs": [
    {
     "name": "stdout",
     "output_type": "stream",
     "text": [
      " * Serving Flask app '__main__'\n",
      " * Debug mode: off\n"
     ]
    },
    {
     "name": "stderr",
     "output_type": "stream",
     "text": [
      "INFO:werkzeug:\u001b[31m\u001b[1mWARNING: This is a development server. Do not use it in a production deployment. Use a production WSGI server instead.\u001b[0m\n",
      " * Running on http://127.0.0.1:8010\n",
      "INFO:werkzeug:\u001b[33mPress CTRL+C to quit\u001b[0m\n",
      "INFO:werkzeug:127.0.0.1 - - [29/Dec/2024 13:30:13] \"GET /api/predictions HTTP/1.1\" 200 -\n",
      "INFO:werkzeug:127.0.0.1 - - [29/Dec/2024 13:38:38] \"GET /api/predictions?startDate=2021-05-29&endDate=2024-01-08 HTTP/1.1\" 200 -\n",
      "INFO:werkzeug:127.0.0.1 - - [29/Dec/2024 13:43:55] \"GET /api/predictions?startDate=2021-01-03&endDate=2024-01-01 HTTP/1.1\" 200 -\n",
      "INFO:werkzeug:127.0.0.1 - - [29/Dec/2024 13:44:53] \"GET /api/predictions?startDate=2022-11-03&endDate=2023-10-01 HTTP/1.1\" 200 -\n",
      "INFO:werkzeug:127.0.0.1 - - [29/Dec/2024 13:46:21] \"GET /api/predictions?startDate=2022-11-03&endDate=2023-10-01 HTTP/1.1\" 200 -\n",
      "INFO:werkzeug:127.0.0.1 - - [29/Dec/2024 13:47:14] \"GET /api/predictions?startDate=2023-01-29&endDate=2024-06-11 HTTP/1.1\" 200 -\n",
      "INFO:werkzeug:127.0.0.1 - - [29/Dec/2024 13:50:48] \"GET /api/predictions?startDate=2023-01-29&endDate=2024-06-11 HTTP/1.1\" 200 -\n",
      "INFO:werkzeug:127.0.0.1 - - [29/Dec/2024 13:56:23] \"GET /api/predictions?startDate=2022-02-28&endDate=2024-01-08 HTTP/1.1\" 200 -\n",
      "INFO:werkzeug:127.0.0.1 - - [29/Dec/2024 13:58:23] \"\u001b[33mGET /api/predictions?startDate=2021-01-29&endDate=2022-06-29 HTTP/1.1\u001b[0m\" 404 -\n",
      "INFO:werkzeug:127.0.0.1 - - [29/Dec/2024 13:59:01] \"\u001b[33mGET /api/predictions?startDate=2021-01-29&endDate=2022-06-29 HTTP/1.1\u001b[0m\" 404 -\n",
      "INFO:werkzeug:127.0.0.1 - - [29/Dec/2024 13:59:16] \"\u001b[33mGET /api/predictions?startDate=2018-02-28&endDate=2022-06-29 HTTP/1.1\u001b[0m\" 404 -\n",
      "INFO:werkzeug:127.0.0.1 - - [29/Dec/2024 13:59:27] \"GET /api/predictions?startDate=2018-02-28&endDate=2024-01-29 HTTP/1.1\" 200 -\n",
      "INFO:werkzeug:127.0.0.1 - - [29/Dec/2024 13:59:40] \"GET /api/predictions?startDate=2018-02-28&endDate=2024-01-29 HTTP/1.1\" 200 -\n",
      "INFO:werkzeug:127.0.0.1 - - [29/Dec/2024 14:00:34] \"GET /api/predictions?startDate=2021-01-05&endDate=2024-02-13 HTTP/1.1\" 200 -\n",
      "INFO:werkzeug:127.0.0.1 - - [29/Dec/2024 14:03:32] \"GET /api/predictions?startDate=2021-02-09&endDate=2024-07-09 HTTP/1.1\" 200 -\n",
      "INFO:werkzeug:127.0.0.1 - - [29/Dec/2024 14:09:29] \"GET /api/predictions?startDate=2021-02-28&endDate=2024-06-04 HTTP/1.1\" 200 -\n",
      "INFO:werkzeug:127.0.0.1 - - [29/Dec/2024 14:11:06] \"GET /api/predictions?startDate=2021-02-16&endDate=2024-06-11 HTTP/1.1\" 200 -\n"
     ]
    }
   ],
   "source": [
    "from flask import Flask, request, jsonify\n",
    "import pandas as pd\n",
    "import numpy as np\n",
    "from flask_cors import CORS\n",
    "\n",
    "app = Flask(__name__)\n",
    "CORS(app)\n",
    "\n",
    "@app.route('/api/predictions', methods=['GET'])\n",
    "def get_predictions():\n",
    "    try:\n",
    "        # Учитај ги предвидувањата и тест податоците\n",
    "        predictions = np.load(\"predictions.npy\")  # NumPy array со предвидувања\n",
    "        test_data = pd.read_csv(\"test_data.csv\")\n",
    "        test_data['date'] = pd.to_datetime(test_data['date'])\n",
    "\n",
    "        # Примање на параметрите за стартен и краен датум\n",
    "        start_date = request.args.get('startDate')\n",
    "        end_date = request.args.get('endDate')\n",
    "\n",
    "        if start_date and end_date:\n",
    "            # Конверзија на датумите во pandas.Timestamp за споредба\n",
    "            start_date = pd.to_datetime(start_date)\n",
    "            end_date = pd.to_datetime(end_date)\n",
    "\n",
    "            # Филтрирање на тест податоците врз основа на датумите\n",
    "            filtered_data = test_data[(test_data['date'] >= start_date) & (test_data['date'] <= end_date)]\n",
    "        else:\n",
    "            # Ако нема параметри за датум, користи ги сите тест податоци\n",
    "            filtered_data = test_data\n",
    "\n",
    "        # Проверка дали има податоци по филтрирањето\n",
    "        if filtered_data.empty:\n",
    "            return jsonify({\"error\": \"No data found for the given date range\"}), 404\n",
    "\n",
    "        # Извлекување на соодветните листи за дати, вистински вредности и предвидувања\n",
    "        dates = filtered_data['date'].dt.strftime('%Y-%m-%d').tolist()\n",
    "        actual = filtered_data['close_price'].tolist()\n",
    "        predicted = predictions[:len(actual)].flatten().tolist()  # Рамнење на NumPy array во листа\n",
    "\n",
    "        # Проверка за усогласеност на должините на листите\n",
    "        if len(dates) != len(actual) or len(dates) != len(predicted):\n",
    "            return jsonify({\"error\": \"Data length mismatch\"}), 400\n",
    "\n",
    "        # Составување на одговорот\n",
    "        response = {\n",
    "            \"dates\": dates,\n",
    "            \"actual\": actual,\n",
    "            \"predicted\": predicted\n",
    "        }\n",
    "\n",
    "        return jsonify(response)\n",
    "\n",
    "    except FileNotFoundError as fnf_error:\n",
    "        app.logger.error(f\"File not found: {fnf_error}\")\n",
    "        return jsonify({\"error\": \"Required file not found\"}), 500\n",
    "    except Exception as e:\n",
    "        # Логирање на грешката и враќање на порака за грешка\n",
    "        app.logger.error(f\"An error occurred: {e}\")\n",
    "        return jsonify({\"error\": str(e)}), 500\n",
    "\n",
    "if __name__ == '__main__':\n",
    "    app.run(port=8010)\n"
   ]
  },
  {
   "cell_type": "code",
   "execution_count": null,
   "id": "4f881ebd-760d-445a-aef6-24f0cf5c102d",
   "metadata": {},
   "outputs": [],
   "source": []
  }
 ],
 "metadata": {
  "kernelspec": {
   "display_name": "Python 3 (ipykernel)",
   "language": "python",
   "name": "python3"
  },
  "language_info": {
   "codemirror_mode": {
    "name": "ipython",
    "version": 3
   },
   "file_extension": ".py",
   "mimetype": "text/x-python",
   "name": "python",
   "nbconvert_exporter": "python",
   "pygments_lexer": "ipython3",
   "version": "3.12.7"
  }
 },
 "nbformat": 4,
 "nbformat_minor": 5
}
