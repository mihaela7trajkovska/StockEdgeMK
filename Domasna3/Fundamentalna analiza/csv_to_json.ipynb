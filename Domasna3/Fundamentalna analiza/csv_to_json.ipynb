{
 "cells": [
  {
   "cell_type": "code",
   "execution_count": 3,
   "id": "c3869bc1-acff-4174-90b8-3cc1530e5207",
   "metadata": {},
   "outputs": [
    {
     "name": "stdout",
     "output_type": "stream",
     "text": [
      "JSON датотеката е успешно креирана!\n"
     ]
    }
   ],
   "source": [
    "import csv\n",
    "import json\n",
    "\n",
    "def csv_to_json(csv_file, json_file):\n",
    "    data = []\n",
    "    with open(csv_file, encoding='utf-8') as csvf:\n",
    "        csv_reader = csv.DictReader(csvf)\n",
    "        for row in csv_reader:\n",
    "            data.append(row)\n",
    "\n",
    "    with open(json_file, 'w', encoding='utf-8') as jsonf:\n",
    "        json.dump(data, jsonf, ensure_ascii=False, indent=4)\n",
    "\n",
    "\n",
    "csv_to_json('analyzed_news.csv', 'analyzed_news.json')\n",
    "print(\"JSON датотеката е успешно креирана!\")\n"
   ]
  },
  {
   "cell_type": "code",
   "execution_count": null,
   "id": "d213796a-4f40-4475-9e43-64e15dc38de6",
   "metadata": {},
   "outputs": [
    {
     "name": "stdout",
     "output_type": "stream",
     "text": [
      " * Serving Flask app '__main__'\n",
      " * Debug mode: off\n"
     ]
    },
    {
     "name": "stderr",
     "output_type": "stream",
     "text": [
      "WARNING: This is a development server. Do not use it in a production deployment. Use a production WSGI server instead.\n",
      " * Running on http://127.0.0.1:8000\n",
      "Press CTRL+C to quit\n",
      "127.0.0.1 - - [28/Dec/2024 17:54:02] \"GET /api/news-data HTTP/1.1\" 200 -\n",
      "127.0.0.1 - - [28/Dec/2024 17:54:11] \"GET /api/news-data HTTP/1.1\" 200 -\n",
      "127.0.0.1 - - [28/Dec/2024 17:54:11] \"GET /api/news-data HTTP/1.1\" 200 -\n",
      "127.0.0.1 - - [28/Dec/2024 17:55:30] \"GET /api/news-data HTTP/1.1\" 200 -\n",
      "127.0.0.1 - - [28/Dec/2024 17:55:30] \"GET /api/news-data HTTP/1.1\" 200 -\n",
      "127.0.0.1 - - [28/Dec/2024 17:56:52] \"GET /api/news-data HTTP/1.1\" 200 -\n",
      "127.0.0.1 - - [28/Dec/2024 17:56:52] \"GET /api/news-data HTTP/1.1\" 200 -\n",
      "127.0.0.1 - - [28/Dec/2024 18:01:39] \"GET /api/news-data HTTP/1.1\" 200 -\n",
      "127.0.0.1 - - [28/Dec/2024 18:01:39] \"GET /api/news-data HTTP/1.1\" 200 -\n"
     ]
    }
   ],
   "source": [
    "from flask import Flask, jsonify\n",
    "import json\n",
    "from flask_cors import CORS\n",
    "\n",
    "app = Flask(__name__)\n",
    "CORS(app) \n",
    "\n",
    "@app.route(\"/api/news-data\", methods=[\"GET\"])\n",
    "def get_news_data():\n",
    "    try:\n",
    "        \n",
    "        with open(\"analyzed_news.json\", mode=\"r\", encoding=\"utf-8\") as json_file:\n",
    "            news_data = json.load(json_file)\n",
    "        return jsonify(news_data)\n",
    "    except Exception as e:\n",
    "        return jsonify({\"error\": str(e)}), 500\n",
    "\n",
    "if __name__ == \"__main__\":\n",
    "    app.run(host=\"127.0.0.1\", port=8000)\n"
   ]
  },
  {
   "cell_type": "code",
   "execution_count": null,
   "id": "f38311ed-c1b9-46e4-a199-c89fa9c3a517",
   "metadata": {},
   "outputs": [],
   "source": []
  }
 ],
 "metadata": {
  "kernelspec": {
   "display_name": "Python 3 (ipykernel)",
   "language": "python",
   "name": "python3"
  },
  "language_info": {
   "codemirror_mode": {
    "name": "ipython",
    "version": 3
   },
   "file_extension": ".py",
   "mimetype": "text/x-python",
   "name": "python",
   "nbconvert_exporter": "python",
   "pygments_lexer": "ipython3",
   "version": "3.12.7"
  }
 },
 "nbformat": 4,
 "nbformat_minor": 5
}
